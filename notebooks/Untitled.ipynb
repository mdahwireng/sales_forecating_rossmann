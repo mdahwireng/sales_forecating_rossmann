{
 "cells": [
  {
   "cell_type": "code",
   "execution_count": 51,
   "id": "a51d6403",
   "metadata": {},
   "outputs": [],
   "source": [
    "import pandas as pd\n",
    "import matplotlib.pyplot as plt\n",
    "from modules.utility import get_csv_data, save_csv\n",
    "import datetime\n",
    "import logging\n",
    "import matplotlib.pyplot as plt\n",
    "import seaborn as sns"
   ]
  },
  {
   "cell_type": "code",
   "execution_count": 103,
   "id": "17f0b264",
   "metadata": {},
   "outputs": [],
   "source": [
    "def get_season_df(df, season_col, season_val):\n",
    "    data = df.copy()\n",
    "    logging.basicConfig(format='%(asctime)s - %(message)s', level=logging.INFO)\n",
    "    logging.info('Retrieving season index...')\n",
    "    season_idx = data[season_col] == season_val\n",
    "    logging.info('Extracting season data...')\n",
    "    season_df = data[season_idx]\n",
    "    logging.info('Process completed data returned.')\n",
    "    return season_df\n",
    "\n",
    "def get_perod_bf_season(train_df, season_df, days_bf):\n",
    "    train_cp = train_df.copy()\n",
    "    season_cp = season_df.copy()\n",
    "    season_cp['before'] = season_cp['Date'].apply(lambda x:x-datetime.timedelta(days=days_bf))\n",
    "    bef_dates = list(set(season_cp['before']))\n",
    "    bef_dates_idx = train_cp['Date'].apply(lambda x:x in bef_dates)\n",
    "    bef_df = train_cp[bef_dates_idx]\n",
    "    return bef_df\n",
    "\n",
    "def get_perod_aft_season(train_df, season_df, days_aft):\n",
    "    train_cp = train_df.copy()\n",
    "    season_cp = season_df.copy()\n",
    "    season_cp['after'] = season_cp['Date'].apply(lambda x:x+datetime.timedelta(days=days_aft))\n",
    "    aft_dates = list(set(season_cp['after']))\n",
    "    aft_dates_idx = train_cp['Date'].apply(lambda x:x in aft_dates)\n",
    "    aft_df = train_cp[aft_dates_idx]\n",
    "    return aft_df\n",
    "def get_day_name(x):\n",
    "    name_dict = {1:'Monday', 2:'Tuesday', 3:'Wednesday', 4:'Thursday', 5:'Friday', 6:'Saturday', 7:'Sunday'}\n",
    "    return name_dict[x]"
   ]
  },
  {
   "cell_type": "code",
   "execution_count": null,
   "id": "a87d5071",
   "metadata": {},
   "outputs": [],
   "source": [
    "def plot_purchase_behv(bf_df, dur_bf, aft_df, title):\n",
    "    bf_df = bf_df.copy()\n",
    "    dur_bf = dur_bf.copy()\n",
    "    aft_df = dur.copy()\n",
    "    \n",
    "    fig, ax = plt.subplots(figsize=(20,10))\n",
    "    sns.set_style('darkgrid', {'axes.facecolor': '.9'})\n",
    "    sns.set_palette(palette='deep')\n",
    "    sns_c = sns.color_palette(palette='deep')\n",
    "\n",
    "    sns.lineplot(x='Day', y='Sales', label='5days before', data=bf_df.groupby(['DayOfWeek','Day']).sum(), ax=ax, color = 'blue')\n",
    "    sns.lineplot(x='Day', y='Sales', label='Public Holiday', data=dur_df.groupby(['DayOfWeek','Day']).sum(), ax=ax, color = 'green')\n",
    "    sns.lineplot(x='Day', y='Sales', label='5days after', data=aft_df.groupby(['DayOfWeek','Day']).sum(), ax=ax, color = 'red')\n",
    "\n",
    "    ax.legend(loc='best', fontsize=16)\n",
    "    ax.set_xlabel('Day',fontsize=16)\n",
    "    ax.set_ylabel('Sales',fontsize=16)\n",
    "    ax.tick_params(axis='x', rotation=45, labelsize=16)\n",
    "    ax.tick_params(axis='y', labelsize=16)\n",
    "    ax.set_title('title', fontsize=20)"
   ]
  },
  {
   "cell_type": "code",
   "execution_count": 81,
   "id": "259863df",
   "metadata": {},
   "outputs": [
    {
     "data": {
      "text/plain": [
       "4"
      ]
     },
     "execution_count": 81,
     "metadata": {},
     "output_type": "execute_result"
    }
   ],
   "source": [
    "train['Date'][0].weekday()"
   ]
  },
  {
   "cell_type": "code",
   "execution_count": 84,
   "id": "c0905c0b",
   "metadata": {},
   "outputs": [],
   "source": [
    "def get_day_name(x):\n",
    "    name_dict = {1:'Monday', 2:'Tuesday', 3:'Wednesday', 4:'Thursday', 5:'Friday', 6:'Saturday', 7:'Sunday'}\n",
    "    return name_dict[x]"
   ]
  },
  {
   "cell_type": "code",
   "execution_count": 142,
   "id": "422b31c8",
   "metadata": {},
   "outputs": [
    {
     "data": {
      "text/plain": [
       "7"
      ]
     },
     "execution_count": 142,
     "metadata": {},
     "output_type": "execute_result"
    }
   ],
   "source": [
    "train['Date'][0].month"
   ]
  },
  {
   "cell_type": "code",
   "execution_count": 78,
   "id": "30cf76a6",
   "metadata": {},
   "outputs": [
    {
     "data": {
      "text/html": [
       "<div>\n",
       "<style scoped>\n",
       "    .dataframe tbody tr th:only-of-type {\n",
       "        vertical-align: middle;\n",
       "    }\n",
       "\n",
       "    .dataframe tbody tr th {\n",
       "        vertical-align: top;\n",
       "    }\n",
       "\n",
       "    .dataframe thead th {\n",
       "        text-align: right;\n",
       "    }\n",
       "</style>\n",
       "<table border=\"1\" class=\"dataframe\">\n",
       "  <thead>\n",
       "    <tr style=\"text-align: right;\">\n",
       "      <th></th>\n",
       "      <th>Store</th>\n",
       "      <th>DayOfWeek</th>\n",
       "      <th>Date</th>\n",
       "      <th>Sales</th>\n",
       "      <th>Customers</th>\n",
       "      <th>Open</th>\n",
       "      <th>Promo</th>\n",
       "      <th>StateHoliday</th>\n",
       "      <th>SchoolHoliday</th>\n",
       "    </tr>\n",
       "  </thead>\n",
       "  <tbody>\n",
       "    <tr>\n",
       "      <th>0</th>\n",
       "      <td>1</td>\n",
       "      <td>5</td>\n",
       "      <td>2015-07-31</td>\n",
       "      <td>5263</td>\n",
       "      <td>555</td>\n",
       "      <td>1</td>\n",
       "      <td>1</td>\n",
       "      <td>0</td>\n",
       "      <td>1</td>\n",
       "    </tr>\n",
       "    <tr>\n",
       "      <th>1</th>\n",
       "      <td>2</td>\n",
       "      <td>5</td>\n",
       "      <td>2015-07-31</td>\n",
       "      <td>6064</td>\n",
       "      <td>625</td>\n",
       "      <td>1</td>\n",
       "      <td>1</td>\n",
       "      <td>0</td>\n",
       "      <td>1</td>\n",
       "    </tr>\n",
       "    <tr>\n",
       "      <th>2</th>\n",
       "      <td>3</td>\n",
       "      <td>5</td>\n",
       "      <td>2015-07-31</td>\n",
       "      <td>8314</td>\n",
       "      <td>821</td>\n",
       "      <td>1</td>\n",
       "      <td>1</td>\n",
       "      <td>0</td>\n",
       "      <td>1</td>\n",
       "    </tr>\n",
       "    <tr>\n",
       "      <th>3</th>\n",
       "      <td>4</td>\n",
       "      <td>5</td>\n",
       "      <td>2015-07-31</td>\n",
       "      <td>13995</td>\n",
       "      <td>1498</td>\n",
       "      <td>1</td>\n",
       "      <td>1</td>\n",
       "      <td>0</td>\n",
       "      <td>1</td>\n",
       "    </tr>\n",
       "    <tr>\n",
       "      <th>4</th>\n",
       "      <td>5</td>\n",
       "      <td>5</td>\n",
       "      <td>2015-07-31</td>\n",
       "      <td>4822</td>\n",
       "      <td>559</td>\n",
       "      <td>1</td>\n",
       "      <td>1</td>\n",
       "      <td>0</td>\n",
       "      <td>1</td>\n",
       "    </tr>\n",
       "  </tbody>\n",
       "</table>\n",
       "</div>"
      ],
      "text/plain": [
       "   Store  DayOfWeek       Date  Sales  Customers  Open  Promo StateHoliday  \\\n",
       "0      1          5 2015-07-31   5263        555     1      1            0   \n",
       "1      2          5 2015-07-31   6064        625     1      1            0   \n",
       "2      3          5 2015-07-31   8314        821     1      1            0   \n",
       "3      4          5 2015-07-31  13995       1498     1      1            0   \n",
       "4      5          5 2015-07-31   4822        559     1      1            0   \n",
       "\n",
       "   SchoolHoliday  \n",
       "0              1  \n",
       "1              1  \n",
       "2              1  \n",
       "3              1  \n",
       "4              1  "
      ]
     },
     "execution_count": 78,
     "metadata": {},
     "output_type": "execute_result"
    }
   ],
   "source": [
    "train.head()"
   ]
  },
  {
   "cell_type": "code",
   "execution_count": 67,
   "id": "bbece2b1",
   "metadata": {},
   "outputs": [
    {
     "data": {
      "text/html": [
       "<div>\n",
       "<style scoped>\n",
       "    .dataframe tbody tr th:only-of-type {\n",
       "        vertical-align: middle;\n",
       "    }\n",
       "\n",
       "    .dataframe tbody tr th {\n",
       "        vertical-align: top;\n",
       "    }\n",
       "\n",
       "    .dataframe thead th {\n",
       "        text-align: right;\n",
       "    }\n",
       "</style>\n",
       "<table border=\"1\" class=\"dataframe\">\n",
       "  <thead>\n",
       "    <tr style=\"text-align: right;\">\n",
       "      <th></th>\n",
       "      <th>Store</th>\n",
       "      <th>DayOfWeek</th>\n",
       "      <th>Date</th>\n",
       "      <th>Sales</th>\n",
       "      <th>Customers</th>\n",
       "      <th>Open</th>\n",
       "      <th>Promo</th>\n",
       "      <th>StateHoliday</th>\n",
       "      <th>SchoolHoliday</th>\n",
       "    </tr>\n",
       "  </thead>\n",
       "  <tbody>\n",
       "    <tr>\n",
       "      <th>63555</th>\n",
       "      <td>1</td>\n",
       "      <td>4</td>\n",
       "      <td>2015-06-04</td>\n",
       "      <td>0</td>\n",
       "      <td>0</td>\n",
       "      <td>0</td>\n",
       "      <td>1</td>\n",
       "      <td>a</td>\n",
       "      <td>0</td>\n",
       "    </tr>\n",
       "    <tr>\n",
       "      <th>63557</th>\n",
       "      <td>3</td>\n",
       "      <td>4</td>\n",
       "      <td>2015-06-04</td>\n",
       "      <td>0</td>\n",
       "      <td>0</td>\n",
       "      <td>0</td>\n",
       "      <td>1</td>\n",
       "      <td>a</td>\n",
       "      <td>0</td>\n",
       "    </tr>\n",
       "    <tr>\n",
       "      <th>63559</th>\n",
       "      <td>5</td>\n",
       "      <td>4</td>\n",
       "      <td>2015-06-04</td>\n",
       "      <td>5807</td>\n",
       "      <td>625</td>\n",
       "      <td>1</td>\n",
       "      <td>1</td>\n",
       "      <td>a</td>\n",
       "      <td>0</td>\n",
       "    </tr>\n",
       "    <tr>\n",
       "      <th>63560</th>\n",
       "      <td>6</td>\n",
       "      <td>4</td>\n",
       "      <td>2015-06-04</td>\n",
       "      <td>5749</td>\n",
       "      <td>614</td>\n",
       "      <td>1</td>\n",
       "      <td>1</td>\n",
       "      <td>a</td>\n",
       "      <td>0</td>\n",
       "    </tr>\n",
       "    <tr>\n",
       "      <th>63563</th>\n",
       "      <td>9</td>\n",
       "      <td>4</td>\n",
       "      <td>2015-06-04</td>\n",
       "      <td>0</td>\n",
       "      <td>0</td>\n",
       "      <td>0</td>\n",
       "      <td>1</td>\n",
       "      <td>a</td>\n",
       "      <td>0</td>\n",
       "    </tr>\n",
       "    <tr>\n",
       "      <th>...</th>\n",
       "      <td>...</td>\n",
       "      <td>...</td>\n",
       "      <td>...</td>\n",
       "      <td>...</td>\n",
       "      <td>...</td>\n",
       "      <td>...</td>\n",
       "      <td>...</td>\n",
       "      <td>...</td>\n",
       "      <td>...</td>\n",
       "    </tr>\n",
       "    <tr>\n",
       "      <th>1017204</th>\n",
       "      <td>1111</td>\n",
       "      <td>2</td>\n",
       "      <td>2013-01-01</td>\n",
       "      <td>0</td>\n",
       "      <td>0</td>\n",
       "      <td>0</td>\n",
       "      <td>0</td>\n",
       "      <td>a</td>\n",
       "      <td>1</td>\n",
       "    </tr>\n",
       "    <tr>\n",
       "      <th>1017205</th>\n",
       "      <td>1112</td>\n",
       "      <td>2</td>\n",
       "      <td>2013-01-01</td>\n",
       "      <td>0</td>\n",
       "      <td>0</td>\n",
       "      <td>0</td>\n",
       "      <td>0</td>\n",
       "      <td>a</td>\n",
       "      <td>1</td>\n",
       "    </tr>\n",
       "    <tr>\n",
       "      <th>1017206</th>\n",
       "      <td>1113</td>\n",
       "      <td>2</td>\n",
       "      <td>2013-01-01</td>\n",
       "      <td>0</td>\n",
       "      <td>0</td>\n",
       "      <td>0</td>\n",
       "      <td>0</td>\n",
       "      <td>a</td>\n",
       "      <td>1</td>\n",
       "    </tr>\n",
       "    <tr>\n",
       "      <th>1017207</th>\n",
       "      <td>1114</td>\n",
       "      <td>2</td>\n",
       "      <td>2013-01-01</td>\n",
       "      <td>0</td>\n",
       "      <td>0</td>\n",
       "      <td>0</td>\n",
       "      <td>0</td>\n",
       "      <td>a</td>\n",
       "      <td>1</td>\n",
       "    </tr>\n",
       "    <tr>\n",
       "      <th>1017208</th>\n",
       "      <td>1115</td>\n",
       "      <td>2</td>\n",
       "      <td>2013-01-01</td>\n",
       "      <td>0</td>\n",
       "      <td>0</td>\n",
       "      <td>0</td>\n",
       "      <td>0</td>\n",
       "      <td>a</td>\n",
       "      <td>1</td>\n",
       "    </tr>\n",
       "  </tbody>\n",
       "</table>\n",
       "<p>20260 rows × 9 columns</p>\n",
       "</div>"
      ],
      "text/plain": [
       "         Store  DayOfWeek       Date  Sales  Customers  Open  Promo  \\\n",
       "63555        1          4 2015-06-04      0          0     0      1   \n",
       "63557        3          4 2015-06-04      0          0     0      1   \n",
       "63559        5          4 2015-06-04   5807        625     1      1   \n",
       "63560        6          4 2015-06-04   5749        614     1      1   \n",
       "63563        9          4 2015-06-04      0          0     0      1   \n",
       "...        ...        ...        ...    ...        ...   ...    ...   \n",
       "1017204   1111          2 2013-01-01      0          0     0      0   \n",
       "1017205   1112          2 2013-01-01      0          0     0      0   \n",
       "1017206   1113          2 2013-01-01      0          0     0      0   \n",
       "1017207   1114          2 2013-01-01      0          0     0      0   \n",
       "1017208   1115          2 2013-01-01      0          0     0      0   \n",
       "\n",
       "        StateHoliday  SchoolHoliday  \n",
       "63555              a              0  \n",
       "63557              a              0  \n",
       "63559              a              0  \n",
       "63560              a              0  \n",
       "63563              a              0  \n",
       "...              ...            ...  \n",
       "1017204            a              1  \n",
       "1017205            a              1  \n",
       "1017206            a              1  \n",
       "1017207            a              1  \n",
       "1017208            a              1  \n",
       "\n",
       "[20260 rows x 9 columns]"
      ]
     },
     "execution_count": 67,
     "metadata": {},
     "output_type": "execute_result"
    }
   ],
   "source": [
    "#season_idx = \n",
    "train[train['StateHoliday'] == 'a']"
   ]
  },
  {
   "cell_type": "code",
   "execution_count": 143,
   "id": "26fe8632",
   "metadata": {},
   "outputs": [
    {
     "data": {
      "text/plain": [
       "Text(0.5, 1.0, 'Public Holidays Purchase Behavior')"
      ]
     },
     "execution_count": 143,
     "metadata": {},
     "output_type": "execute_result"
    },
    {
     "data": {
      "image/png": "[encoded data removed]",
      "text/plain": [
       "<Figure size 1440x720 with 1 Axes>"
      ]
     },
     "metadata": {},
     "output_type": "display_data"
    }
   ],
   "source": [
    "fig, ax = plt.subplots(figsize=(20,10))\n",
    "sns.set_style('darkgrid', {'axes.facecolor': '.9'})\n",
    "sns.set_palette(palette='deep')\n",
    "sns_c = sns.color_palette(palette='deep')\n",
    "sns.lineplot(x='Day', y='Sales', label='5days before', data=public_holiday_bf.groupby(['DayOfWeek','Day']).sum(), ax=ax, color = 'blue')\n",
    "sns.lineplot(x='Day', y='Sales', label='Public Holiday', data=public_holiday.groupby(['DayOfWeek','Day']).sum(), ax=ax, color = 'green')\n",
    "sns.lineplot(x='Day', y='Sales', label='5days after', data=public_holiday_aft.groupby(['DayOfWeek','Day']).sum(), ax=ax, color = 'red')\n",
    "\n",
    "ax.legend(loc='best', fontsize=16)\n",
    "ax.set_xlabel('Day',fontsize=16)\n",
    "ax.set_ylabel('Sales',fontsize=16)\n",
    "ax.tick_params(axis='x', rotation=45, labelsize=16)\n",
    "ax.tick_params(axis='y', labelsize=16)\n",
    "ax.set_title('Public Holidays Purchase Behavior', fontsize=20)"
   ]
  },
  {
   "cell_type": "markdown",
   "id": "11c8cf0b",
   "metadata": {},
   "source": [
    "## Read data"
   ]
  },
  {
   "cell_type": "code",
   "execution_count": 26,
   "id": "019fdc6c",
   "metadata": {},
   "outputs": [
    {
     "name": "stdout",
     "output_type": "stream",
     "text": [
      "Reading data from dvc source....\n"
     ]
    },
    {
     "name": "stderr",
     "output_type": "stream",
     "text": [
      "C:\\ProgramData\\Anaconda3\\lib\\site-packages\\IPython\\core\\interactiveshell.py:3357: DtypeWarning: Columns (7) have mixed types.Specify dtype option on import or set low_memory=False.\n",
      "  if (await self.run_code(code, result,  async_=asy)):\n"
     ]
    },
    {
     "name": "stdout",
     "output_type": "stream",
     "text": [
      "Reading completed, data returned\n"
     ]
    }
   ],
   "source": [
    "train = get_csv_data(path='data/train.csv', version='v1')\n",
    "\n",
    "test = get_csv_data(path='data/test.csv', version='v1')\n",
    "\n",
    "store = get_csv_data(path='data/store.csv', version='v1')"
   ]
  },
  {
   "cell_type": "code",
   "execution_count": 138,
   "id": "ccb4506b",
   "metadata": {},
   "outputs": [
    {
     "data": {
      "text/plain": [
       "Store                        False\n",
       "StoreType                    False\n",
       "Assortment                   False\n",
       "CompetitionDistance          False\n",
       "CompetitionOpenSinceMonth    False\n",
       "CompetitionOpenSinceYear     False\n",
       "Promo2                       False\n",
       "Promo2SinceWeek               True\n",
       "Promo2SinceYear               True\n",
       "PromoInterval                 True\n",
       "dtype: bool"
      ]
     },
     "execution_count": 138,
     "metadata": {},
     "output_type": "execute_result"
    }
   ],
   "source": [
    "store.head().isnull().any()"
   ]
  },
  {
   "cell_type": "code",
   "execution_count": 86,
   "id": "39cf909f",
   "metadata": {},
   "outputs": [],
   "source": [
    "train['Date'] = pd.to_datetime(train['Date'])\n",
    "train['Day'] = train['DayOfWeek'].apply(get_day_name)\n",
    "test['Date'] = pd.to_datetime(test['Date'])\n",
    "test['Day'] = test['DayOfWeek'].apply(get_day_name)"
   ]
  },
  {
   "cell_type": "code",
   "execution_count": 30,
   "id": "68df850a",
   "metadata": {},
   "outputs": [
    {
     "data": {
      "text/html": [
       "<div>\n",
       "<style scoped>\n",
       "    .dataframe tbody tr th:only-of-type {\n",
       "        vertical-align: middle;\n",
       "    }\n",
       "\n",
       "    .dataframe tbody tr th {\n",
       "        vertical-align: top;\n",
       "    }\n",
       "\n",
       "    .dataframe thead th {\n",
       "        text-align: right;\n",
       "    }\n",
       "</style>\n",
       "<table border=\"1\" class=\"dataframe\">\n",
       "  <thead>\n",
       "    <tr style=\"text-align: right;\">\n",
       "      <th></th>\n",
       "      <th>Id</th>\n",
       "      <th>Store</th>\n",
       "      <th>DayOfWeek</th>\n",
       "      <th>Date</th>\n",
       "      <th>Open</th>\n",
       "      <th>Promo</th>\n",
       "      <th>StateHoliday</th>\n",
       "      <th>SchoolHoliday</th>\n",
       "    </tr>\n",
       "  </thead>\n",
       "  <tbody>\n",
       "    <tr>\n",
       "      <th>0</th>\n",
       "      <td>1</td>\n",
       "      <td>1</td>\n",
       "      <td>4</td>\n",
       "      <td>2015-09-17</td>\n",
       "      <td>1.0</td>\n",
       "      <td>1</td>\n",
       "      <td>0</td>\n",
       "      <td>0</td>\n",
       "    </tr>\n",
       "    <tr>\n",
       "      <th>1</th>\n",
       "      <td>2</td>\n",
       "      <td>3</td>\n",
       "      <td>4</td>\n",
       "      <td>2015-09-17</td>\n",
       "      <td>1.0</td>\n",
       "      <td>1</td>\n",
       "      <td>0</td>\n",
       "      <td>0</td>\n",
       "    </tr>\n",
       "    <tr>\n",
       "      <th>2</th>\n",
       "      <td>3</td>\n",
       "      <td>7</td>\n",
       "      <td>4</td>\n",
       "      <td>2015-09-17</td>\n",
       "      <td>1.0</td>\n",
       "      <td>1</td>\n",
       "      <td>0</td>\n",
       "      <td>0</td>\n",
       "    </tr>\n",
       "    <tr>\n",
       "      <th>3</th>\n",
       "      <td>4</td>\n",
       "      <td>8</td>\n",
       "      <td>4</td>\n",
       "      <td>2015-09-17</td>\n",
       "      <td>1.0</td>\n",
       "      <td>1</td>\n",
       "      <td>0</td>\n",
       "      <td>0</td>\n",
       "    </tr>\n",
       "    <tr>\n",
       "      <th>4</th>\n",
       "      <td>5</td>\n",
       "      <td>9</td>\n",
       "      <td>4</td>\n",
       "      <td>2015-09-17</td>\n",
       "      <td>1.0</td>\n",
       "      <td>1</td>\n",
       "      <td>0</td>\n",
       "      <td>0</td>\n",
       "    </tr>\n",
       "  </tbody>\n",
       "</table>\n",
       "</div>"
      ],
      "text/plain": [
       "   Id  Store  DayOfWeek       Date  Open  Promo StateHoliday  SchoolHoliday\n",
       "0   1      1          4 2015-09-17   1.0      1            0              0\n",
       "1   2      3          4 2015-09-17   1.0      1            0              0\n",
       "2   3      7          4 2015-09-17   1.0      1            0              0\n",
       "3   4      8          4 2015-09-17   1.0      1            0              0\n",
       "4   5      9          4 2015-09-17   1.0      1            0              0"
      ]
     },
     "execution_count": 30,
     "metadata": {},
     "output_type": "execute_result"
    }
   ],
   "source": [
    "test.head()"
   ]
  },
  {
   "cell_type": "code",
   "execution_count": 31,
   "id": "282a3924",
   "metadata": {
    "scrolled": true
   },
   "outputs": [
    {
     "name": "stdout",
     "output_type": "stream",
     "text": [
      "<class 'pandas.core.frame.DataFrame'>\n",
      "RangeIndex: 41088 entries, 0 to 41087\n",
      "Data columns (total 8 columns):\n",
      " #   Column         Non-Null Count  Dtype         \n",
      "---  ------         --------------  -----         \n",
      " 0   Id             41088 non-null  int64         \n",
      " 1   Store          41088 non-null  int64         \n",
      " 2   DayOfWeek      41088 non-null  int64         \n",
      " 3   Date           41088 non-null  datetime64[ns]\n",
      " 4   Open           41077 non-null  float64       \n",
      " 5   Promo          41088 non-null  int64         \n",
      " 6   StateHoliday   41088 non-null  object        \n",
      " 7   SchoolHoliday  41088 non-null  int64         \n",
      "dtypes: datetime64[ns](1), float64(1), int64(5), object(1)\n",
      "memory usage: 2.5+ MB\n"
     ]
    }
   ],
   "source": [
    "test.info()"
   ]
  },
  {
   "cell_type": "code",
   "execution_count": 104,
   "id": "c2baede6",
   "metadata": {},
   "outputs": [],
   "source": [
    "public_holiday = get_season_df(df=train, season_col='StateHoliday', season_val='a')\n",
    "public_holiday_bf = get_perod_bf_season(train_df=train, season_df=public_holiday, days_bf=5)\n",
    "public_holiday_aft = get_perod_aft_season(train_df=train, season_df=public_holiday, days_aft=5)"
   ]
  },
  {
   "cell_type": "code",
   "execution_count": 123,
   "id": "91dea0be",
   "metadata": {},
   "outputs": [],
   "source": [
    "easter_holiday = get_season_df(df=train, season_col='StateHoliday', season_val='b')\n",
    "easter_holiday_bf = get_perod_bf_season(train_df=train, season_df=easter_holiday, days_bf=5)\n",
    "easter_holiday_aft = get_perod_aft_season(train_df=train, season_df=easter_holiday, days_aft=5)"
   ]
  },
  {
   "cell_type": "code",
   "execution_count": 124,
   "id": "d357872c",
   "metadata": {},
   "outputs": [],
   "source": [
    "xmas_holiday = get_season_df(df=train, season_col='StateHoliday', season_val='c')\n",
    "xmas_holiday_bf = get_perod_bf_season(train_df=train, season_df=xmas_holiday, days_bf=5)\n",
    "xmas_holiday_aft = get_perod_aft_season(train_df=train, season_df=xmas_holiday, days_aft=5)"
   ]
  },
  {
   "cell_type": "code",
   "execution_count": null,
   "id": "76fefe69",
   "metadata": {},
   "outputs": [],
   "source": [
    "def get_season_df(df, season_col, season_val):\n",
    "    data = df.copy()\n",
    "    season_idx = data[season_col] == season_val\n",
    "    season_df = data[season_idx]\n",
    "    return season_df\n",
    "\n",
    "def get_perod_bf_season(train_df, season_df, days_bf):\n",
    "    train_cp = train_df.copy()\n",
    "    season_cp = season_df.copy()\n",
    "    season_cp['before'] = season_cp['Date'].apply(lambda x:x-datetime.timedelta(days=days_bf))\n",
    "    bef_dates = list(set(season_cp['before']))\n",
    "    bef_dates_idx = train_cp['Date'].apply(lambda x:x in bef_dates)\n",
    "    bef_df = train_cp[bef_dates_idx]\n",
    "    return bef_df\n",
    "\n",
    "def get_perod_aft_season(train_df, season_df, days_aft):\n",
    "    train_cp = train_df.copy()\n",
    "    season_cp = season_df.copy()\n",
    "    season_cp['before'] = season_cp['Date'].apply(lambda x:x-datetime.timedelta(days=days_aft))\n",
    "    aft_dates = list(set(season_cp['before']))\n",
    "    aft_dates_idx = train_cp['Date'].apply(lambda x:x in aft_dates)\n",
    "    aft_df = train_cp[aft_dates_idx]\n",
    "    return aft_df"
   ]
  },
  {
   "cell_type": "code",
   "execution_count": 10,
   "id": "cc7b65c8",
   "metadata": {},
   "outputs": [],
   "source": [
    "public_holiday = train[public_holiday_idx]\n",
    "easter_holdays = train[easter_holiday_idx]\n",
    "xmas_holidays = train[xmas_holidays_idx]"
   ]
  },
  {
   "cell_type": "code",
   "execution_count": 11,
   "id": "0c5ef836",
   "metadata": {},
   "outputs": [
    {
     "name": "stdout",
     "output_type": "stream",
     "text": [
      "Today    : 2021-07-27\n",
      "One day  : 5 days, 0:00:00\n",
      "Yesterday: 2021-07-22\n",
      "Tomorrow : 2021-08-01\n",
      "tomorrow - yesterday: 10 days, 0:00:00\n",
      "yesterday - tomorrow: -10 days, 0:00:00\n"
     ]
    }
   ],
   "source": [
    "import datetime\n",
    "\n",
    "today = datetime.date.today()\n",
    "print ('Today    :', today)\n",
    "\n",
    "one_day = datetime.timedelta(days=5)\n",
    "print ('One day  :', one_day)\n",
    "\n",
    "yesterday = today - one_day\n",
    "print ('Yesterday:', yesterday)\n",
    "\n",
    "tomorrow = today + one_day\n",
    "print ('Tomorrow :', tomorrow)\n",
    "\n",
    "print ('tomorrow - yesterday:', tomorrow - yesterday)\n",
    "print ('yesterday - tomorrow:', yesterday - tomorrow)"
   ]
  },
  {
   "cell_type": "code",
   "execution_count": 12,
   "id": "e5e5e1fd",
   "metadata": {
    "scrolled": false
   },
   "outputs": [
    {
     "name": "stderr",
     "output_type": "stream",
     "text": [
      "<ipython-input-12-a947641c0194>:1: SettingWithCopyWarning: \n",
      "A value is trying to be set on a copy of a slice from a DataFrame.\n",
      "Try using .loc[row_indexer,col_indexer] = value instead\n",
      "\n",
      "See the caveats in the documentation: https://pandas.pydata.org/pandas-docs/stable/user_guide/indexing.html#returning-a-view-versus-a-copy\n",
      "  public_holiday['before'] = public_holiday['Date'].apply(lambda x:x-datetime.timedelta(days=5))\n"
     ]
    }
   ],
   "source": [
    "public_holiday['before'] = public_holiday['Date'].apply(lambda x:x-datetime.timedelta(days=5))"
   ]
  },
  {
   "cell_type": "code",
   "execution_count": 13,
   "id": "7801c673",
   "metadata": {
    "scrolled": false
   },
   "outputs": [
    {
     "name": "stderr",
     "output_type": "stream",
     "text": [
      "<ipython-input-13-04dfa063f010>:1: SettingWithCopyWarning: \n",
      "A value is trying to be set on a copy of a slice from a DataFrame.\n",
      "Try using .loc[row_indexer,col_indexer] = value instead\n",
      "\n",
      "See the caveats in the documentation: https://pandas.pydata.org/pandas-docs/stable/user_guide/indexing.html#returning-a-view-versus-a-copy\n",
      "  public_holiday['after'] = public_holiday['Date'].apply(lambda x:x+datetime.timedelta(days=5))\n"
     ]
    }
   ],
   "source": [
    "public_holiday['after'] = public_holiday['Date'].apply(lambda x:x+datetime.timedelta(days=5))"
   ]
  },
  {
   "cell_type": "code",
   "execution_count": 20,
   "id": "38576e38",
   "metadata": {},
   "outputs": [],
   "source": [
    "bef = list(set(public_holiday['before']))"
   ]
  },
  {
   "cell_type": "code",
   "execution_count": 23,
   "id": "56eec85a",
   "metadata": {},
   "outputs": [
    {
     "data": {
      "text/plain": [
       "array(['2015-05-30T00:00:00.000000000', '2015-05-20T00:00:00.000000000',\n",
       "       '2015-05-09T00:00:00.000000000', '2015-04-26T00:00:00.000000000',\n",
       "       '2015-01-01T00:00:00.000000000', '2014-12-27T00:00:00.000000000',\n",
       "       '2014-11-14T00:00:00.000000000', '2014-10-27T00:00:00.000000000',\n",
       "       '2014-10-26T00:00:00.000000000', '2014-09-28T00:00:00.000000000',\n",
       "       '2014-06-14T00:00:00.000000000', '2014-06-04T00:00:00.000000000',\n",
       "       '2014-05-24T00:00:00.000000000', '2014-04-26T00:00:00.000000000',\n",
       "       '2014-01-01T00:00:00.000000000', '2013-12-27T00:00:00.000000000',\n",
       "       '2013-11-15T00:00:00.000000000', '2013-10-27T00:00:00.000000000',\n",
       "       '2013-10-26T00:00:00.000000000', '2013-09-28T00:00:00.000000000',\n",
       "       '2013-08-10T00:00:00.000000000', '2013-05-25T00:00:00.000000000',\n",
       "       '2013-05-15T00:00:00.000000000', '2013-05-04T00:00:00.000000000',\n",
       "       '2013-04-26T00:00:00.000000000', '2013-01-01T00:00:00.000000000'],\n",
       "      dtype='datetime64[ns]')"
      ]
     },
     "execution_count": 23,
     "metadata": {},
     "output_type": "execute_result"
    }
   ],
   "source": [
    "train[train['Date'].apply(lambda x:x in bef)]['Date'].unique()"
   ]
  },
  {
   "cell_type": "code",
   "execution_count": null,
   "id": "23f5d69d",
   "metadata": {},
   "outputs": [],
   "source": [
    "set(public_holiday['after'])"
   ]
  },
  {
   "cell_type": "code",
   "execution_count": null,
   "id": "eb4eaf31",
   "metadata": {},
   "outputs": [],
   "source": [
    "yr2013 = train[train['Date'].str.contains('2013-12')]"
   ]
  },
  {
   "cell_type": "code",
   "execution_count": null,
   "id": "22ad7c69",
   "metadata": {},
   "outputs": [],
   "source": [
    "train['Date'] = pd.to_datetime(train['Date'])"
   ]
  },
  {
   "cell_type": "code",
   "execution_count": null,
   "id": "74d52a52",
   "metadata": {},
   "outputs": [],
   "source": [
    "train['month'] = train['Date'].apply(lambda x:x.month)"
   ]
  },
  {
   "cell_type": "code",
   "execution_count": null,
   "id": "7d855494",
   "metadata": {},
   "outputs": [],
   "source": [
    "train.groupby('month').sum().plot( y='Sales')"
   ]
  },
  {
   "cell_type": "code",
   "execution_count": null,
   "id": "1ca61aa2",
   "metadata": {},
   "outputs": [],
   "source": [
    "train.plot(x='Date', y='Sales', figsize=(20,10), kind='line')"
   ]
  },
  {
   "cell_type": "code",
   "execution_count": null,
   "id": "e2dce630",
   "metadata": {},
   "outputs": [],
   "source": [
    "test['Date'] = pd.to_datetime(test['Date'])"
   ]
  },
  {
   "cell_type": "code",
   "execution_count": null,
   "id": "8df3c645",
   "metadata": {},
   "outputs": [],
   "source": [
    "test['month'] = test['Date'].apply(lambda x:x.month)"
   ]
  },
  {
   "cell_type": "code",
   "execution_count": null,
   "id": "633c79fc",
   "metadata": {},
   "outputs": [],
   "source": [
    "test.groupby('month').sum().plot(y='')"
   ]
  },
  {
   "cell_type": "code",
   "execution_count": null,
   "id": "37a318d0",
   "metadata": {},
   "outputs": [],
   "source": [
    "train.plot(x='Date', y='Sales')\n",
    "plt.figure(figsize=(20, 20))\n",
    "plt.show()"
   ]
  }
 ],
 "metadata": {
  "kernelspec": {
   "display_name": "Python 3",
   "language": "python",
   "name": "python3"
  },
  "language_info": {
   "codemirror_mode": {
    "name": "ipython",
    "version": 3
   },
   "file_extension": ".py",
   "mimetype": "text/x-python",
   "name": "python",
   "nbconvert_exporter": "python",
   "pygments_lexer": "ipython3",
   "version": "3.8.8"
  }
 },
 "nbformat": 4,
 "nbformat_minor": 5
}
